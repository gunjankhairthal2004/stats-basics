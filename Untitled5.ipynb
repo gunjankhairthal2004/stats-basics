{
  "nbformat": 4,
  "nbformat_minor": 0,
  "metadata": {
    "colab": {
      "provenance": []
    },
    "kernelspec": {
      "name": "python3",
      "display_name": "Python 3"
    },
    "language_info": {
      "name": "python"
    }
  },
  "cells": [
    {
      "cell_type": "markdown",
      "source": [
        "# answer 1\n",
        "De­scriptive Statistics helps us simplify and organize big chunks of data. This makes large amounts of data easier to understand\n",
        "eg:\n",
        "import numpy as np\n",
        "a= [4,99,80]\n",
        "mean = np.mean(a)\n",
        "print(\"Mean = \", mean)\n",
        "whereas Inferential Statistics is a little different. It uses smaller data to conclude a larger group. It helps us predict and draw conclusions about a population.\n",
        "eg:\n",
        "studies the sample of the same data like grade,percentile.\n"
      ],
      "metadata": {
        "id": "qtFnWWA6bp57"
      }
    },
    {
      "cell_type": "markdown",
      "source": [
        "# answer 2\n",
        "Sampling is the process of selecting a small group from a larger population to gather information and make conclusions about the whole group. It's a practical and cost-effective way to collect data, especially when studying when it is not possible.\n",
        "\n",
        "# random sampling\n",
        "Random Sampling is a method where every item or individual in a group has an equal chance of being selected. It's like drawing names from a hat—each name has the same probability of being chosen.\n",
        "\n",
        "# Stratified Sampling\n",
        "Stratified or Mixed Sampling is a method used when a population has different groups with unique characteristics. In this method, the population is divided into smaller groups, called strata, based on these differences. Then, some items are chosen from each group to represent the whole population.\n",
        "\n"
      ],
      "metadata": {
        "id": "DsZLyyQGgP9g"
      }
    },
    {
      "cell_type": "markdown",
      "source": [
        "# answer 3\n",
        ".Mean is calculated by adding all the numbers in the data set and dividing by the number of values in the set. The mean is also known as the average.\n",
        ".Median is defined as the middle term of the given set of data if the data is arranged either in ascending or descending order.\n",
        ".The most frequently occurring value in the Sample or Population is called as mode.\n",
        "# importance of measures of central tendency are:\n",
        "1)Data Summarization\n",
        "2)Decision-Making\n",
        "3)Outlier Detection\n",
        "4)Policy Formation\n",
        "\n",
        "\n",
        "\n",
        "\n",
        "\n",
        "\n",
        "\n"
      ],
      "metadata": {
        "id": "l-CV3VpFhDxQ"
      }
    },
    {
      "cell_type": "markdown",
      "source": [
        "# answer 4\n",
        "Skewness is a measure used in statistics to understand a data set's symmetry or lack thereof. It helps determine whether the data is more spread out on one side of the mean than the other. A data set can be skewed either to the left (negative skew) or the right (positive skew), or it can be symmetrical (zero skew) whereas Kurtosis is a measure of the “tailedness” of the probability distribution of a real-valued random variable. In other words, kurtosis identifies whether the tails of a given distribution contain extreme values.\n",
        "# positive skew\n",
        "Positive Skewness means the tail on the right side of the distribution is longer. The mean and median will be greater than the mode.\n",
        "Condition for positive skewness = Mean > Median >Mode\n"
      ],
      "metadata": {
        "id": "8kymHL6mkPLk"
      }
    },
    {
      "cell_type": "markdown",
      "source": [
        "# answer 5\n"
      ],
      "metadata": {
        "id": "kDXC6BsBltqR"
      }
    },
    {
      "cell_type": "code",
      "source": [
        "import statistics\n",
        "\n",
        "numbers = [12, 15, 12, 18, 19, 12, 20, 22, 19, 19, 24, 24, 24, 26, 28]\n",
        "mean = statistics.mean(numbers)\n",
        "median = statistics.median(numbers)\n",
        "mode = statistics.mode(numbers)\n",
        "\n",
        "print(f\"Mean: {mean}\")\n",
        "print(f\"Median: {median}\")\n",
        "print(f\"Mode: {mode}\")"
      ],
      "metadata": {
        "colab": {
          "base_uri": "https://localhost:8080/"
        },
        "id": "GxWM65vApgpz",
        "outputId": "2938781f-23d3-4f41-ca99-175258195747"
      },
      "execution_count": 2,
      "outputs": [
        {
          "output_type": "stream",
          "name": "stdout",
          "text": [
            "Mean: 19.6\n",
            "Median: 19\n",
            "Mode: 12\n"
          ]
        }
      ]
    },
    {
      "cell_type": "markdown",
      "source": [
        "# answer 6"
      ],
      "metadata": {
        "id": "uGaSZ_C3p6Ub"
      }
    },
    {
      "cell_type": "code",
      "source": [
        "import numpy as np\n",
        "\n",
        "list_x = [10, 20, 30, 40, 50]\n",
        "list_y = [15, 25, 35, 45, 60]\n",
        "covariance = np.cov(list_x, list_y)[0, 1]\n",
        "correlation_coefficient = np.corrcoef(list_x, list_y)[0, 1]\n",
        "\n",
        "print(f\"Covariance: {covariance}\")\n",
        "print(f\"Correlation Coefficient: {correlation_coefficient}\")"
      ],
      "metadata": {
        "colab": {
          "base_uri": "https://localhost:8080/"
        },
        "id": "2V4gFqQlp-5m",
        "outputId": "2bbdb10c-3b39-4c8d-ddae-cabb0ea80d8d"
      },
      "execution_count": 4,
      "outputs": [
        {
          "output_type": "stream",
          "name": "stdout",
          "text": [
            "Covariance: 275.0\n",
            "Correlation Coefficient: 0.995893206467704\n"
          ]
        }
      ]
    },
    {
      "cell_type": "markdown",
      "source": [
        "# answer 7"
      ],
      "metadata": {
        "id": "CzhxrqbtqmT0"
      }
    },
    {
      "cell_type": "code",
      "source": [
        "import matplotlib.pyplot as plt\n",
        "import numpy as np\n",
        "\n",
        "data = [12, 14, 14, 15, 18, 19, 19, 21, 22, 22, 23, 23, 24, 26, 29, 35]\n",
        "\n",
        "plt.boxplot(data)\n",
        "plt.title('Boxplot of the Data')\n",
        "plt.show()\n",
        "Q1 = np.percentile(data, 25)\n",
        "Q3 = np.percentile(data, 75)\n",
        "IQR = Q3 - Q1\n",
        "lower_bound = Q1 - 1.5 * IQR\n",
        "upper_bound = Q3 + 1.5 * IQR\n",
        "outliers = [x for x in data if x < lower_bound or x > upper_bound]\n",
        "print(\"Outliers:\", outliers)"
      ],
      "metadata": {
        "colab": {
          "base_uri": "https://localhost:8080/",
          "height": 469
        },
        "id": "ddhBSyjcqptQ",
        "outputId": "f75aaf19-4c55-4a5e-80c5-e4c4b5382f44"
      },
      "execution_count": 5,
      "outputs": [
        {
          "output_type": "display_data",
          "data": {
            "text/plain": [
              "<Figure size 640x480 with 1 Axes>"
            ],
            "image/png": "[encoded data removed]"
          },
          "metadata": {}
        },
        {
          "output_type": "stream",
          "name": "stdout",
          "text": [
            "Outliers: [35]\n"
          ]
        }
      ]
    },
    {
      "cell_type": "markdown",
      "source": [
        ".The boxplot visualizes the distribution of the data.\n",
        ".Outliers are data points outside 1.5*IQR from Q1 and Q3.\n"
      ],
      "metadata": {
        "id": "R0DQHlLlrayl"
      }
    },
    {
      "cell_type": "markdown",
      "source": [
        "# answer 8\n",
        ".Covariance tells us if two variables move together (positive covariance) or in opposite directions (negative covariance) whereas Correlation scales covariance to a value between -1 and 1, showing the strength and direction of the relationship.\n"
      ],
      "metadata": {
        "id": "ZinT9ruErNTj"
      }
    },
    {
      "cell_type": "code",
      "source": [
        "import numpy as np\n",
        "\n",
        "advertising_spend = [200, 250, 300, 400, 500]\n",
        "daily_sales = [2200, 2450, 2750, 3200, 4000]\n",
        "correlation = np.corrcoef(advertising_spend, daily_sales)[0, 1]\n",
        "\n",
        "print(\"Correlation:\", correlation)"
      ],
      "metadata": {
        "colab": {
          "base_uri": "https://localhost:8080/"
        },
        "id": "0VRLh0ORrifN",
        "outputId": "6ec001b6-c2bf-481c-eafb-d45d4a4bda79"
      },
      "execution_count": 6,
      "outputs": [
        {
          "output_type": "stream",
          "name": "stdout",
          "text": [
            "Correlation: 0.9935824101653329\n"
          ]
        }
      ]
    },
    {
      "cell_type": "markdown",
      "source": [
        "# answer 9\n",
        ".Use mean (average satisfaction), median (middle value), and standard deviation (how spread out the scores are).\n",
        ".A histogram is perfect for showing the distribution of scores.\n"
      ],
      "metadata": {
        "id": "XBNDCoUcsvZ5"
      }
    },
    {
      "cell_type": "code",
      "source": [
        "import matplotlib.pyplot as plt\n",
        "\n",
        "survey_scores = [7, 8, 5, 9, 6, 7, 8, 9, 10, 4, 7, 6, 9, 8, 7]\n",
        "plt.hist(survey_scores, bins=range(1, 12), edgecolor='black')\n",
        "plt.xlabel('Satisfaction Score (1-10)')\n",
        "plt.ylabel('Frequency')\n",
        "plt.title('Customer Satisfaction Distribution')\n",
        "plt.show()"
      ],
      "metadata": {
        "colab": {
          "base_uri": "https://localhost:8080/",
          "height": 472
        },
        "id": "YtshFukDtTfL",
        "outputId": "a29dbcc3-63af-4ee1-b44e-8ecfacc94b86"
      },
      "execution_count": 7,
      "outputs": [
        {
          "output_type": "display_data",
          "data": {
            "text/plain": [
              "<Figure size 640x480 with 1 Axes>"
            ],
            "image/png": "[encoded data removed]"
          },
          "metadata": {}
        }
      ]
    }
  ]
}